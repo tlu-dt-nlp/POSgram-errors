{
  "cells": [
    {
      "cell_type": "markdown",
      "metadata": {
        "id": "view-in-github",
        "colab_type": "text"
      },
      "source": [
        "<a href=\"https://colab.research.google.com/github/tlu-dt-nlp/POSgram-finder/blob/main/posgram_finder_demo.ipynb\" target=\"_parent\"><img src=\"https://colab.research.google.com/assets/colab-badge.svg\" alt=\"Open In Colab\"/></a>"
      ]
    },
    {
      "cell_type": "markdown",
      "metadata": {
        "id": "ZONqB2QwiJvP"
      },
      "source": [
        "# Error Detection Based on Part-of-Speech Sequences"
      ]
    },
    {
      "cell_type": "markdown",
      "metadata": {
        "id": "bldNS0XXiZaY"
      },
      "source": [
        "Demo for using the `posgram-finder` error detection tool from the https://koodivaramu.eesti.ee/tartunlp/corrector toolkit.\n",
        "\n",
        "The application finds unlikely part-of-speech (POS) sequences. These are detected based on the probability of POS trigrams (three-word strings) to occur in a certain context. In other words, how likely they are to be used together with the preceding/succeeding POS or at the beginning/end of a sentence. Punctuation is skipped in the analysis.\n"
      ]
    },
    {
      "cell_type": "markdown",
      "metadata": {
        "id": "EBS125u-k0Yn"
      },
      "source": [
        "## Setup"
      ]
    },
    {
      "cell_type": "markdown",
      "metadata": {
        "id": "PPCwremGk3fZ"
      },
      "source": [
        "Clone the repository, install dependencies and import the `PosgramFinder` class."
      ]
    },
    {
      "cell_type": "code",
      "execution_count": 1,
      "metadata": {
        "id": "0Xt0wkckkMMg",
        "outputId": "5bcd2c92-5c52-47b9-954a-5891f91e7c01",
        "colab": {
          "base_uri": "https://localhost:8080/"
        }
      },
      "outputs": [
        {
          "output_type": "stream",
          "name": "stdout",
          "text": [
            "Cloning into 'posgram-finder'...\n",
            "remote: Enumerating objects: 43, done.\u001b[K\n",
            "remote: Counting objects: 100% (43/43), done.\u001b[K\n",
            "remote: Compressing objects: 100% (42/42), done.\u001b[K\n",
            "remote: Total 43 (delta 19), reused 0 (delta 0), pack-reused 0\u001b[K\n",
            "Receiving objects: 100% (43/43), 358.29 KiB | 3.85 MiB/s, done.\n",
            "Resolving deltas: 100% (19/19), done.\n"
          ]
        }
      ],
      "source": [
        "! git clone https://github.com/tlu-dt-nlp/posgram-finder.git"
      ]
    },
    {
      "cell_type": "code",
      "execution_count": 2,
      "metadata": {
        "id": "lCjOX_TmkeEI",
        "outputId": "88c21513-714a-4282-b512-3eed0951b37d",
        "colab": {
          "base_uri": "https://localhost:8080/"
        }
      },
      "outputs": [
        {
          "output_type": "stream",
          "name": "stdout",
          "text": [
            "/content/posgram-finder\n"
          ]
        }
      ],
      "source": [
        "%cd posgram-finder"
      ]
    },
    {
      "cell_type": "code",
      "execution_count": 3,
      "metadata": {
        "colab": {
          "base_uri": "https://localhost:8080/"
        },
        "id": "nZGwOQSykPd9",
        "outputId": "6ace4a57-da36-404e-f3ff-abf1852c0ba3"
      },
      "outputs": [
        {
          "output_type": "stream",
          "name": "stdout",
          "text": [
            "Collecting stanza\n",
            "  Downloading stanza-1.6.1-py3-none-any.whl (881 kB)\n",
            "\u001b[2K     \u001b[90m━━━━━━━━━━━━━━━━━━━━━━━━━━━━━━━━━━━━━━━━\u001b[0m \u001b[32m881.2/881.2 kB\u001b[0m \u001b[31m12.5 MB/s\u001b[0m eta \u001b[36m0:00:00\u001b[0m\n",
            "\u001b[?25hCollecting emoji (from stanza)\n",
            "  Downloading emoji-2.8.0-py2.py3-none-any.whl (358 kB)\n",
            "\u001b[2K     \u001b[90m━━━━━━━━━━━━━━━━━━━━━━━━━━━━━━━━━━━━━━━━\u001b[0m \u001b[32m358.9/358.9 kB\u001b[0m \u001b[31m33.7 MB/s\u001b[0m eta \u001b[36m0:00:00\u001b[0m\n",
            "\u001b[?25hRequirement already satisfied: numpy in /usr/local/lib/python3.10/dist-packages (from stanza) (1.23.5)\n",
            "Requirement already satisfied: protobuf>=3.15.0 in /usr/local/lib/python3.10/dist-packages (from stanza) (3.20.3)\n",
            "Requirement already satisfied: requests in /usr/local/lib/python3.10/dist-packages (from stanza) (2.31.0)\n",
            "Requirement already satisfied: torch>=1.3.0 in /usr/local/lib/python3.10/dist-packages (from stanza) (2.1.0+cu118)\n",
            "Requirement already satisfied: tqdm in /usr/local/lib/python3.10/dist-packages (from stanza) (4.66.1)\n",
            "Requirement already satisfied: filelock in /usr/local/lib/python3.10/dist-packages (from torch>=1.3.0->stanza) (3.13.1)\n",
            "Requirement already satisfied: typing-extensions in /usr/local/lib/python3.10/dist-packages (from torch>=1.3.0->stanza) (4.5.0)\n",
            "Requirement already satisfied: sympy in /usr/local/lib/python3.10/dist-packages (from torch>=1.3.0->stanza) (1.12)\n",
            "Requirement already satisfied: networkx in /usr/local/lib/python3.10/dist-packages (from torch>=1.3.0->stanza) (3.2.1)\n",
            "Requirement already satisfied: jinja2 in /usr/local/lib/python3.10/dist-packages (from torch>=1.3.0->stanza) (3.1.2)\n",
            "Requirement already satisfied: fsspec in /usr/local/lib/python3.10/dist-packages (from torch>=1.3.0->stanza) (2023.6.0)\n",
            "Requirement already satisfied: triton==2.1.0 in /usr/local/lib/python3.10/dist-packages (from torch>=1.3.0->stanza) (2.1.0)\n",
            "Requirement already satisfied: charset-normalizer<4,>=2 in /usr/local/lib/python3.10/dist-packages (from requests->stanza) (3.3.2)\n",
            "Requirement already satisfied: idna<4,>=2.5 in /usr/local/lib/python3.10/dist-packages (from requests->stanza) (3.6)\n",
            "Requirement already satisfied: urllib3<3,>=1.21.1 in /usr/local/lib/python3.10/dist-packages (from requests->stanza) (2.0.7)\n",
            "Requirement already satisfied: certifi>=2017.4.17 in /usr/local/lib/python3.10/dist-packages (from requests->stanza) (2023.11.17)\n",
            "Requirement already satisfied: MarkupSafe>=2.0 in /usr/local/lib/python3.10/dist-packages (from jinja2->torch>=1.3.0->stanza) (2.1.3)\n",
            "Requirement already satisfied: mpmath>=0.19 in /usr/local/lib/python3.10/dist-packages (from sympy->torch>=1.3.0->stanza) (1.3.0)\n",
            "Installing collected packages: emoji, stanza\n",
            "Successfully installed emoji-2.8.0 stanza-1.6.1\n"
          ]
        }
      ],
      "source": [
        "! pip install stanza"
      ]
    },
    {
      "cell_type": "code",
      "execution_count": 5,
      "metadata": {
        "colab": {
          "base_uri": "https://localhost:8080/"
        },
        "id": "50jLNpjHkXQF",
        "outputId": "0986758c-eace-4c9c-f589-27b503a12e5c"
      },
      "outputs": [
        {
          "output_type": "stream",
          "name": "stderr",
          "text": [
            "INFO:stanza:Loading these models for language: et (Estonian):\n",
            "============================\n",
            "| Processor | Package      |\n",
            "----------------------------\n",
            "| tokenize  | edt          |\n",
            "| pos       | edt_nocharlm |\n",
            "============================\n",
            "\n",
            "INFO:stanza:Using device: cpu\n",
            "INFO:stanza:Loading: tokenize\n",
            "INFO:stanza:Loading: pos\n",
            "INFO:stanza:Done loading processors!\n"
          ]
        }
      ],
      "source": [
        "from posgram_finder import PosgramFinder\n",
        "p = PosgramFinder()\n",
        "# By default, a trigram context is detected as low-probability if its relative frequency is <5% in the language model.\n",
        "# It can be changed using the \"lower_percentage_limit\" argument\n",
        "#p = PosgramFinder(lower_percentage_limit=2.5)"
      ]
    },
    {
      "cell_type": "markdown",
      "metadata": {
        "id": "gh3T_z6QuFZK"
      },
      "source": [
        "## Finding errors in non-corrected texts"
      ]
    },
    {
      "cell_type": "markdown",
      "metadata": {
        "id": "gfV87iEHozzi"
      },
      "source": [
        "The tool can be used for analysing original, non-corrected texts as well as automated correction output.\n",
        "\n",
        "In the following two examples, we analyse original sentences written by learners of Estonian as a second language."
      ]
    },
    {
      "cell_type": "markdown",
      "metadata": {
        "id": "eYmexVPwuKct"
      },
      "source": [
        "### 1. Word choice error"
      ]
    },
    {
      "cell_type": "code",
      "execution_count": 6,
      "metadata": {
        "colab": {
          "base_uri": "https://localhost:8080/"
        },
        "id": "0vcO0lEGkqFh",
        "outputId": "d80f53cd-559b-4116-8ea6-13e762a4bfdf"
      },
      "outputs": [
        {
          "output_type": "stream",
          "name": "stdout",
          "text": [
            "^PVDAZDJAASZ$\n"
          ]
        }
      ],
      "source": [
        "result = p.posgram_errors(\"See on väga ilus, kiiresti ja mugav punane auto.\")"
      ]
    },
    {
      "cell_type": "markdown",
      "metadata": {
        "id": "leDr4Bm5qOOC"
      },
      "source": [
        "Here the adverb *kiiresti* has been used instead of the adjective *kiire*. Three untypical POS sequences are found, all include the erroneous word."
      ]
    },
    {
      "cell_type": "code",
      "execution_count": 7,
      "metadata": {
        "colab": {
          "base_uri": "https://localhost:8080/"
        },
        "id": "FAQsmwWhp1yq",
        "outputId": "8aa041b1-9d97-4a49-fd18-4ca24ee9696c"
      },
      "outputs": [
        {
          "output_type": "stream",
          "name": "stdout",
          "text": [
            "[{'sentence': 'See on väga ilus, kiiresti ja mugav punane auto.',\n",
            "  'sentence_posgram': '^PVDAZDJAASZ$',\n",
            "  'error_candidates': [{'value': 'on väga ilus , kiiresti',\n",
            "                        'posgram': 'VDAZD',\n",
            "                        'start_token': 1,\n",
            "                        'end_token': 5,\n",
            "                        'trigram': 'VDA',\n",
            "                        'type': 'post',\n",
            "                        'context': 'D',\n",
            "                        'percent': 3.085772778093205},\n",
            "                       {'value': 'ilus , kiiresti ja mugav',\n",
            "                        'posgram': 'AZDJA',\n",
            "                        'start_token': 3,\n",
            "                        'end_token': 7,\n",
            "                        'trigram': 'DJA',\n",
            "                        'type': 'pre',\n",
            "                        'context': 'A',\n",
            "                        'percent': 1.9070039340843379},\n",
            "                       {'value': 'kiiresti ja mugav punane',\n",
            "                        'posgram': 'DJAA',\n",
            "                        'start_token': 5,\n",
            "                        'end_token': 8,\n",
            "                        'trigram': 'DJA',\n",
            "                        'type': 'post',\n",
            "                        'context': 'A',\n",
            "                        'percent': 4.139478299337999}]}]\n"
          ]
        }
      ],
      "source": [
        "from pprint import pprint\n",
        "pprint(result, sort_dicts=False)"
      ]
    },
    {
      "cell_type": "markdown",
      "metadata": {
        "id": "0JxixzyGuPOD"
      },
      "source": [
        "### 2. Missing verb"
      ]
    },
    {
      "cell_type": "code",
      "execution_count": 8,
      "metadata": {
        "colab": {
          "base_uri": "https://localhost:8080/"
        },
        "id": "6q42W56urYeZ",
        "outputId": "eaf36bfd-ac80-465b-d920-b3051c3e67d7"
      },
      "outputs": [
        {
          "output_type": "stream",
          "name": "stdout",
          "text": [
            "^DVSJVJSDZ$\n"
          ]
        }
      ],
      "source": [
        "sentence = \"Eile koristasin vannituba ja näen nagu kodumasin katki.\"\n",
        "result = p.posgram_errors(sentence)"
      ]
    },
    {
      "cell_type": "markdown",
      "metadata": {
        "id": "6z6RyUl-rV_S"
      },
      "source": [
        "The existential verb *olema* is missing from the subordinate clause at the end of the sentence (*nagu kodumasin katki*). It is reflected in consecutive unlikely word strings."
      ]
    },
    {
      "cell_type": "code",
      "execution_count": 9,
      "metadata": {
        "colab": {
          "base_uri": "https://localhost:8080/"
        },
        "id": "Gw_DeLSQoTrK",
        "outputId": "eef53c36-215e-456c-8e46-68e04228dabd"
      },
      "outputs": [
        {
          "output_type": "stream",
          "name": "stdout",
          "text": [
            "[{'value': 'ja näen nagu kodumasin',\n",
            "  'posgram': 'JVJS',\n",
            "  'start_token': 3,\n",
            "  'end_token': 6,\n",
            "  'trigram': 'VJS',\n",
            "  'type': 'pre',\n",
            "  'context': 'J',\n",
            "  'percent': 4.7853188712363295},\n",
            " {'value': 'näen nagu kodumasin katki',\n",
            "  'posgram': 'VJSD',\n",
            "  'start_token': 4,\n",
            "  'end_token': 7,\n",
            "  'trigram': 'VJS',\n",
            "  'type': 'post',\n",
            "  'context': 'D',\n",
            "  'percent': 4.402904046086682},\n",
            " {'value': 'nagu kodumasin katki .',\n",
            "  'posgram': 'JSDZ$',\n",
            "  'start_token': 5,\n",
            "  'end_token': 9,\n",
            "  'trigram': 'JSD',\n",
            "  'type': 'post',\n",
            "  'context': '$',\n",
            "  'percent': 4.90649701176017}]\n"
          ]
        }
      ],
      "source": [
        "pprint(result[0][\"error_candidates\"], sort_dicts=False)"
      ]
    },
    {
      "cell_type": "markdown",
      "metadata": {
        "id": "lIj8vYcJuR1W"
      },
      "source": [
        "## Finding errors in correction output"
      ]
    },
    {
      "cell_type": "markdown",
      "metadata": {
        "id": "8g23NTS3vZ1C"
      },
      "source": [
        "Next, we analyse two sentences that have already been processed by the best-performing grammatical error correction model.\n",
        "\n",
        "The corrector has not made changes to the first sentence. The second sentence has been edited considerably. Originally, it was *Seal palju kohvikud, muuseumusid kino*."
      ]
    },
    {
      "cell_type": "code",
      "execution_count": 10,
      "metadata": {
        "colab": {
          "base_uri": "https://localhost:8080/"
        },
        "id": "MpWYdNLvwvpK",
        "outputId": "befec499-856e-409c-8883-f81061d0662f"
      },
      "outputs": [
        {
          "output_type": "stream",
          "name": "stdout",
          "text": [
            "^SPVSZ$\n",
            "^DVDSZSZSZ$\n"
          ]
        }
      ],
      "source": [
        "text = \"Vitebskis me kuulasime kontserti. Seal on palju kohvikuid, muuseume, kinosid.\"\n",
        "result = p.posgram_errors(text)"
      ]
    },
    {
      "cell_type": "markdown",
      "metadata": {
        "id": "g2pdAFzHuY0X"
      },
      "source": [
        "### 1. Word order error"
      ]
    },
    {
      "cell_type": "markdown",
      "metadata": {
        "id": "XjbFI1oExkNE"
      },
      "source": [
        "The first sentence starts with a noun-pronoun-verb sequence that does not align with the verb-second (V2) word order. It would be advisable to begin the sentence with *Vitebskis kuulasime me*."
      ]
    },
    {
      "cell_type": "markdown",
      "metadata": {
        "id": "e5X2N8eRueyn"
      },
      "source": [
        "### 2. Missing conjunction"
      ]
    },
    {
      "cell_type": "markdown",
      "metadata": {
        "id": "ivcJihc7xmny"
      },
      "source": [
        "An adverb is typically not followed by three consecutive nouns without a conjunction. While not grammatically incorrect, it would be more fluent to use the conjunction *ja* when listing the nouns in the second sentence (between the words *muuseume* and *kinosid*)."
      ]
    },
    {
      "cell_type": "code",
      "execution_count": 11,
      "metadata": {
        "colab": {
          "base_uri": "https://localhost:8080/"
        },
        "id": "t6Cuy_rMkPab",
        "outputId": "0a826125-823a-4558-be75-4cd1a119bc25"
      },
      "outputs": [
        {
          "output_type": "stream",
          "name": "stdout",
          "text": [
            "[{'sentence': 'Vitebskis me kuulasime kontserti.',\n",
            "  'sentence_posgram': '^SPVSZ$',\n",
            "  'error_candidates': [{'value': 'Vitebskis me kuulasime',\n",
            "                        'posgram': 'SPV',\n",
            "                        'start_token': 0,\n",
            "                        'end_token': 2,\n",
            "                        'trigram': 'SPV',\n",
            "                        'type': 'pre',\n",
            "                        'context': '^',\n",
            "                        'percent': 4.862718076808973}]},\n",
            " {'sentence': 'Seal on palju kohvikuid, muuseume, kinosid.',\n",
            "  'sentence_posgram': '^DVDSZSZSZ$',\n",
            "  'error_candidates': [{'value': 'palju kohvikuid , muuseume , kinosid',\n",
            "                        'posgram': 'DSZSZS',\n",
            "                        'start_token': 2,\n",
            "                        'end_token': 7,\n",
            "                        'trigram': 'SSS',\n",
            "                        'type': 'pre',\n",
            "                        'context': 'D',\n",
            "                        'percent': 3.9641244155294872}]}]\n"
          ]
        }
      ],
      "source": [
        "pprint(result, sort_dicts=False)"
      ]
    }
  ],
  "metadata": {
    "colab": {
      "provenance": [],
      "include_colab_link": true
    },
    "kernelspec": {
      "display_name": "Python 3",
      "name": "python3"
    },
    "language_info": {
      "name": "python"
    }
  },
  "nbformat": 4,
  "nbformat_minor": 0
}
