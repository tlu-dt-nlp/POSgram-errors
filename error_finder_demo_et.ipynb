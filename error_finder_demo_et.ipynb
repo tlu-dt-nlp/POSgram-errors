{
  "cells": [
    {
      "cell_type": "markdown",
      "metadata": {
        "id": "view-in-github",
        "colab_type": "text"
      },
      "source": [
        "<a href=\"https://colab.research.google.com/github/tlu-dt-nlp/POSgram-errors/blob/main/error_finder_demo_et.ipynb\" target=\"_parent\"><img src=\"https://colab.research.google.com/assets/colab-badge.svg\" alt=\"Open In Colab\"/></a>"
      ]
    },
    {
      "cell_type": "markdown",
      "metadata": {
        "id": "ZONqB2QwiJvP"
      },
      "source": [
        "# Sõnaliigijärjenditel põhinev veatuvastus"
      ]
    },
    {
      "cell_type": "markdown",
      "metadata": {
        "id": "bldNS0XXiZaY"
      },
      "source": [
        "Siin lehel saab katsetada vealeidjat, mis otsib ebatüüpilisi sõnaliikide järgnevusi. Otsing põhineb trigrammide ehk kolmesõnaliste järjendite kasutuskontekstidel, täpsemini sellel, kui suure tõenäosusega esineb mingi trigramm lause alguses/lõpus või kindla sõnaliigi ees/järel. Statistilisele keelemudelile tuginedes eraldab programm tekstist vähetõenäolised sõnaliigijärjendid.\n",
        "\n",
        "Vealeidja kuulub eesti keele automaatkorrektuuri tööriistakasti, vt https://koodivaramu.eesti.ee/tartunlp/corrector.\n"
      ]
    },
    {
      "cell_type": "markdown",
      "metadata": {
        "id": "EBS125u-k0Yn"
      },
      "source": [
        "## Ettevalmistus"
      ]
    },
    {
      "cell_type": "markdown",
      "metadata": {
        "id": "PPCwremGk3fZ"
      },
      "source": [
        "Tee endale rakenduse koodihoidlast koopia ja liigu kausta `posgram-errors`. Paigalda Stanza keeletöötluspakett ja käivita rakendus."
      ]
    },
    {
      "cell_type": "code",
      "execution_count": 1,
      "metadata": {
        "id": "0Xt0wkckkMMg",
        "outputId": "f66cf183-8539-403d-c9da-5c3a497cdb75",
        "colab": {
          "base_uri": "https://localhost:8080/"
        }
      },
      "outputs": [
        {
          "output_type": "stream",
          "name": "stdout",
          "text": [
            "Cloning into 'posgram-errors'...\n",
            "remote: Enumerating objects: 68, done.\u001b[K\n",
            "remote: Counting objects: 100% (68/68), done.\u001b[K\n",
            "remote: Compressing objects: 100% (67/67), done.\u001b[K\n",
            "remote: Total 68 (delta 33), reused 0 (delta 0), pack-reused 0\u001b[K\n",
            "Receiving objects: 100% (68/68), 373.88 KiB | 4.20 MiB/s, done.\n",
            "Resolving deltas: 100% (33/33), done.\n"
          ]
        }
      ],
      "source": [
        "! git clone https://github.com/tlu-dt-nlp/posgram-errors.git"
      ]
    },
    {
      "cell_type": "code",
      "execution_count": 3,
      "metadata": {
        "id": "lCjOX_TmkeEI",
        "outputId": "aeffbf20-d7a3-4697-bead-5809b595ab69",
        "colab": {
          "base_uri": "https://localhost:8080/"
        }
      },
      "outputs": [
        {
          "output_type": "stream",
          "name": "stdout",
          "text": [
            "/content/posgram-errors\n"
          ]
        }
      ],
      "source": [
        "%cd posgram-errors"
      ]
    },
    {
      "cell_type": "code",
      "execution_count": 3,
      "metadata": {
        "colab": {
          "base_uri": "https://localhost:8080/"
        },
        "id": "nZGwOQSykPd9",
        "outputId": "36aa9ed6-ba9b-4aaa-aa5b-c0032cce340e"
      },
      "outputs": [
        {
          "output_type": "stream",
          "name": "stdout",
          "text": [
            "Collecting stanza\n",
            "  Downloading stanza-1.7.0-py3-none-any.whl (933 kB)\n",
            "\u001b[2K     \u001b[90m━━━━━━━━━━━━━━━━━━━━━━━━━━━━━━━━━━━━━━━━\u001b[0m \u001b[32m933.2/933.2 kB\u001b[0m \u001b[31m8.1 MB/s\u001b[0m eta \u001b[36m0:00:00\u001b[0m\n",
            "\u001b[?25hCollecting emoji (from stanza)\n",
            "  Downloading emoji-2.10.0-py2.py3-none-any.whl (457 kB)\n",
            "\u001b[2K     \u001b[90m━━━━━━━━━━━━━━━━━━━━━━━━━━━━━━━━━━━━━━━━\u001b[0m \u001b[32m457.9/457.9 kB\u001b[0m \u001b[31m17.6 MB/s\u001b[0m eta \u001b[36m0:00:00\u001b[0m\n",
            "\u001b[?25hRequirement already satisfied: numpy in /usr/local/lib/python3.10/dist-packages (from stanza) (1.23.5)\n",
            "Requirement already satisfied: protobuf>=3.15.0 in /usr/local/lib/python3.10/dist-packages (from stanza) (3.20.3)\n",
            "Requirement already satisfied: requests in /usr/local/lib/python3.10/dist-packages (from stanza) (2.31.0)\n",
            "Requirement already satisfied: networkx in /usr/local/lib/python3.10/dist-packages (from stanza) (3.2.1)\n",
            "Requirement already satisfied: toml in /usr/local/lib/python3.10/dist-packages (from stanza) (0.10.2)\n",
            "Requirement already satisfied: torch>=1.3.0 in /usr/local/lib/python3.10/dist-packages (from stanza) (2.1.0+cu121)\n",
            "Requirement already satisfied: tqdm in /usr/local/lib/python3.10/dist-packages (from stanza) (4.66.1)\n",
            "Requirement already satisfied: filelock in /usr/local/lib/python3.10/dist-packages (from torch>=1.3.0->stanza) (3.13.1)\n",
            "Requirement already satisfied: typing-extensions in /usr/local/lib/python3.10/dist-packages (from torch>=1.3.0->stanza) (4.5.0)\n",
            "Requirement already satisfied: sympy in /usr/local/lib/python3.10/dist-packages (from torch>=1.3.0->stanza) (1.12)\n",
            "Requirement already satisfied: jinja2 in /usr/local/lib/python3.10/dist-packages (from torch>=1.3.0->stanza) (3.1.3)\n",
            "Requirement already satisfied: fsspec in /usr/local/lib/python3.10/dist-packages (from torch>=1.3.0->stanza) (2023.6.0)\n",
            "Requirement already satisfied: triton==2.1.0 in /usr/local/lib/python3.10/dist-packages (from torch>=1.3.0->stanza) (2.1.0)\n",
            "Requirement already satisfied: charset-normalizer<4,>=2 in /usr/local/lib/python3.10/dist-packages (from requests->stanza) (3.3.2)\n",
            "Requirement already satisfied: idna<4,>=2.5 in /usr/local/lib/python3.10/dist-packages (from requests->stanza) (3.6)\n",
            "Requirement already satisfied: urllib3<3,>=1.21.1 in /usr/local/lib/python3.10/dist-packages (from requests->stanza) (2.0.7)\n",
            "Requirement already satisfied: certifi>=2017.4.17 in /usr/local/lib/python3.10/dist-packages (from requests->stanza) (2023.11.17)\n",
            "Requirement already satisfied: MarkupSafe>=2.0 in /usr/local/lib/python3.10/dist-packages (from jinja2->torch>=1.3.0->stanza) (2.1.3)\n",
            "Requirement already satisfied: mpmath>=0.19 in /usr/local/lib/python3.10/dist-packages (from sympy->torch>=1.3.0->stanza) (1.3.0)\n",
            "Installing collected packages: emoji, stanza\n",
            "Successfully installed emoji-2.10.0 stanza-1.7.0\n"
          ]
        }
      ],
      "source": [
        "! pip install stanza"
      ]
    },
    {
      "cell_type": "code",
      "execution_count": 4,
      "metadata": {
        "colab": {
          "base_uri": "https://localhost:8080/",
          "height": 419,
          "referenced_widgets": [
            "7d83743897504d638bec9b267d280845",
            "03018107531941c5a3e85ed892609af6",
            "911c340ae2904b5ab5f0502dcd8f7a6d",
            "599b880a7c13463c86253ccf85489b7c",
            "3f2973c1b3a4423c9a9e328ee566bd36",
            "3655ef1a9ca7418e8f2785909cf29251",
            "53ccb5ecf36e4c27b3f1008ba1d6aa36",
            "7dbe272ddd2a4fb1b8a3d74ee89a3428",
            "d354967ec570431fb1ad7bc9b3dd408f",
            "e1cbd6c5fa304b32b7f555d9fb28bb86",
            "cf622305e3ef48d5b863fb9b966eabba",
            "848b704e68274a2aa91e2bbb7bf47e39",
            "d03d0dcca3e941cbac0fe1f57fd17257",
            "7541a4165e074cd9959cf852947757f0",
            "7d4bc57b10544243b0632c0e7ad22954",
            "d7348f6d131f4cf09fff3be742d15c2a",
            "6912e9a706ba4029a32ed3c7669b9aa5",
            "147bdc32b33e4519badfa2646d3a8b62",
            "bb88067a22a74cdea091bd08b3ed0f16",
            "c20855cc857d4c85bcec9f58285b0333",
            "92e74b3bf0194283988c9b3c0d3d64cf",
            "e78e3b85c0d14219aec81944a9b1d741",
            "c3ed4fa667d94dbda4ccf5b385baeec1",
            "4d9a1a010a324cadb2527cfc81952638",
            "ca61a40c14204eec99a529c8f48b0e18",
            "1d715e7791cd49f7823efca8eaec0fef",
            "b967c92b0a744c1aac3cea0d8f98ef25",
            "046154cdf4b0454d928daa8dfbf1f9cd",
            "4756fd19157f4d75873c32dcb6e0cd1e",
            "b2b12c8688ae49abadce7075dac9a3e4",
            "a41c4efab2d44621bfbd10e51fb61fe4",
            "fac93cc1055446bbb544c9c78a4a7f99",
            "0acd551c2f9d48b0b8821648b3e37a17",
            "1b4d65501ff94855885ed59e7a832c8c",
            "e6730eeebea64f709958c51651684b84",
            "f6920bc8c88042b99ca48a3355f6156e",
            "7413ddca36584537aaca8e0c4602866c",
            "71e19b1b75524f7fa191b81bfc5c1794",
            "7041b04793484be39abdda499d5a7e9b",
            "72b4ea7ebcb246acbef1999b9bbd9d11",
            "eab961c84edc4251899ae97d46982fc5",
            "755a2b099caa4da0995fca890452b37f",
            "7eb554ba56254d4b95839bbfcf4db9c1",
            "a8140483f9964863a78078c6dbf8dee1"
          ]
        },
        "id": "50jLNpjHkXQF",
        "outputId": "18113c50-dba5-48c3-ebcf-75e491acfc4c"
      },
      "outputs": [
        {
          "output_type": "stream",
          "name": "stderr",
          "text": [
            "INFO:stanza:Checking for updates to resources.json in case models have been updated.  Note: this behavior can be turned off with download_method=None or download_method=DownloadMethod.REUSE_RESOURCES\n"
          ]
        },
        {
          "output_type": "display_data",
          "data": {
            "text/plain": [
              "Downloading https://raw.githubusercontent.com/stanfordnlp/stanza-resources/main/resources_1.7.0.json:   0%|   …"
            ],
            "application/vnd.jupyter.widget-view+json": {
              "version_major": 2,
              "version_minor": 0,
              "model_id": "7d83743897504d638bec9b267d280845"
            }
          },
          "metadata": {}
        },
        {
          "output_type": "display_data",
          "data": {
            "text/plain": [
              "Downloading https://huggingface.co/stanfordnlp/stanza-et/resolve/v1.7.0/models/tokenize/edt.pt:   0%|         …"
            ],
            "application/vnd.jupyter.widget-view+json": {
              "version_major": 2,
              "version_minor": 0,
              "model_id": "848b704e68274a2aa91e2bbb7bf47e39"
            }
          },
          "metadata": {}
        },
        {
          "output_type": "display_data",
          "data": {
            "text/plain": [
              "Downloading https://huggingface.co/stanfordnlp/stanza-et/resolve/v1.7.0/models/pos/edt_nocharlm.pt:   0%|     …"
            ],
            "application/vnd.jupyter.widget-view+json": {
              "version_major": 2,
              "version_minor": 0,
              "model_id": "c3ed4fa667d94dbda4ccf5b385baeec1"
            }
          },
          "metadata": {}
        },
        {
          "output_type": "display_data",
          "data": {
            "text/plain": [
              "Downloading https://huggingface.co/stanfordnlp/stanza-et/resolve/v1.7.0/models/pretrain/conll17.pt:   0%|     …"
            ],
            "application/vnd.jupyter.widget-view+json": {
              "version_major": 2,
              "version_minor": 0,
              "model_id": "1b4d65501ff94855885ed59e7a832c8c"
            }
          },
          "metadata": {}
        },
        {
          "output_type": "stream",
          "name": "stderr",
          "text": [
            "INFO:stanza:Loading these models for language: et (Estonian):\n",
            "============================\n",
            "| Processor | Package      |\n",
            "----------------------------\n",
            "| tokenize  | edt          |\n",
            "| pos       | edt_nocharlm |\n",
            "============================\n",
            "\n",
            "INFO:stanza:Using device: cpu\n",
            "INFO:stanza:Loading: tokenize\n",
            "INFO:stanza:Loading: pos\n",
            "INFO:stanza:Done loading processors!\n"
          ]
        }
      ],
      "source": [
        "from posgram_finder import PosgramFinder\n",
        "p = PosgramFinder()\n",
        "# Vaikimisi peetakse trigrammi konteksti vähetõenäoliseks, kui selle osakaal keelemudelis on alla 5%.\n",
        "# Seda seadet saab muuta argumendi \"lower_percentage_limit\" abil, nt:\n",
        "#p = PosgramFinder(lower_percentage_limit=2.5)"
      ]
    },
    {
      "cell_type": "markdown",
      "metadata": {
        "id": "gh3T_z6QuFZK"
      },
      "source": [
        "## Veatuvastus eelnevalt parandamata tekstides"
      ]
    },
    {
      "cell_type": "markdown",
      "metadata": {
        "id": "gfV87iEHozzi"
      },
      "source": [
        "Tööriista võib kasutada nii eelnevalt parandamata tekstide kui ka automaatse veaparanduse väljundi analüüsimiseks. Kahes järgnevas näites analüüsime eesti keelt teise keelena õppijate algupäraseid lauseid.\n",
        "\n",
        "Kasutajale kuvatakse lause esitus sõnaliigimärgendite jadana (vt märgendite seletusi https://github.com/tlu-dt-nlp/POSgram-errors) ning tuuakse välja ebatüüpiline sõnanelik (lause sees) või -kolmik (lause alguses/lõpus). Tähistatakse järjendi asukoht lauses sõnede järjekorranumbrite abil (esimesele sõnele vastab 0, teisele sõnele 1 jne), vähetõenäolise konteksti tüüp (ees/järelkontekst) ja keelemudelil põhinev osakaal vastava trigrammi kontekstide hulgas. Kirjavahemärke analüüsis ei arvestata, kuid kuvatakse nende asukoht sõnajärjendis."
      ]
    },
    {
      "cell_type": "markdown",
      "metadata": {
        "id": "eYmexVPwuKct"
      },
      "source": [
        "### 1. Sõnavalikuviga"
      ]
    },
    {
      "cell_type": "markdown",
      "metadata": {
        "id": "leDr4Bm5qOOC"
      },
      "source": [
        "Omadussõna *kiire* asemel on kasutatud määrsõna *kiiresti*. Vigasele sõnale osutab kolm ebatüüpilist sõnaliigijärjendit. Üks neist hõlmab harvaesineva eeskontekstiga ja kaks harvaesineva järelkontekstiga trigrammi."
      ]
    },
    {
      "cell_type": "code",
      "execution_count": 5,
      "metadata": {
        "colab": {
          "base_uri": "https://localhost:8080/"
        },
        "id": "0vcO0lEGkqFh",
        "outputId": "1a480d67-1b41-4c34-9f9f-6bcaf5266418"
      },
      "outputs": [
        {
          "output_type": "stream",
          "name": "stdout",
          "text": [
            "^PVDAZDJAASZ$\n"
          ]
        }
      ],
      "source": [
        "result = p.posgram_errors(\"See on väga ilus, kiiresti ja mugav punane auto.\")"
      ]
    },
    {
      "cell_type": "code",
      "execution_count": null,
      "metadata": {
        "colab": {
          "base_uri": "https://localhost:8080/"
        },
        "id": "FAQsmwWhp1yq",
        "outputId": "8aa041b1-9d97-4a49-fd18-4ca24ee9696c"
      },
      "outputs": [
        {
          "output_type": "stream",
          "name": "stdout",
          "text": [
            "[{'sentence': 'See on väga ilus, kiiresti ja mugav punane auto.',\n",
            "  'sentence_posgram': '^PVDAZDJAASZ$',\n",
            "  'error_candidates': [{'value': 'on väga ilus , kiiresti',\n",
            "                        'posgram': 'VDAZD',\n",
            "                        'start_token': 1,\n",
            "                        'end_token': 5,\n",
            "                        'trigram': 'VDA',\n",
            "                        'type': 'post',\n",
            "                        'context': 'D',\n",
            "                        'percent': 3.085772778093205},\n",
            "                       {'value': 'ilus , kiiresti ja mugav',\n",
            "                        'posgram': 'AZDJA',\n",
            "                        'start_token': 3,\n",
            "                        'end_token': 7,\n",
            "                        'trigram': 'DJA',\n",
            "                        'type': 'pre',\n",
            "                        'context': 'A',\n",
            "                        'percent': 1.9070039340843379},\n",
            "                       {'value': 'kiiresti ja mugav punane',\n",
            "                        'posgram': 'DJAA',\n",
            "                        'start_token': 5,\n",
            "                        'end_token': 8,\n",
            "                        'trigram': 'DJA',\n",
            "                        'type': 'post',\n",
            "                        'context': 'A',\n",
            "                        'percent': 4.139478299337999}]}]\n"
          ]
        }
      ],
      "source": [
        "from pprint import pprint\n",
        "pprint(result, sort_dicts=False)"
      ]
    },
    {
      "cell_type": "markdown",
      "metadata": {
        "id": "0JxixzyGuPOD"
      },
      "source": [
        "### 2. Puuduv tegusõna"
      ]
    },
    {
      "cell_type": "markdown",
      "metadata": {
        "id": "6z6RyUl-rV_S"
      },
      "source": [
        "Kõrvallausest *nagu kodumasin katki* on puudu tegusõna *olema*. Sellele viitab kolm vähetõenäolist sõnajärjendit. Trigrammil tegusõna-sidesõna-nimisõna (VJS) on nii ebatüüpiline eeskontekst (sidesõna) kui ka järelkontekst (määrsõna). Sidesõna-nimisõna-määrsõna (JSD) esineb harva lause lõpus."
      ]
    },
    {
      "cell_type": "code",
      "execution_count": null,
      "metadata": {
        "colab": {
          "base_uri": "https://localhost:8080/"
        },
        "id": "6q42W56urYeZ",
        "outputId": "eaf36bfd-ac80-465b-d920-b3051c3e67d7"
      },
      "outputs": [
        {
          "output_type": "stream",
          "name": "stdout",
          "text": [
            "^DVSJVJSDZ$\n"
          ]
        }
      ],
      "source": [
        "sentence = \"Eile koristasin vannituba ja näen nagu kodumasin katki.\"\n",
        "result = p.posgram_errors(sentence)"
      ]
    },
    {
      "cell_type": "code",
      "execution_count": null,
      "metadata": {
        "colab": {
          "base_uri": "https://localhost:8080/"
        },
        "id": "Gw_DeLSQoTrK",
        "outputId": "eef53c36-215e-456c-8e46-68e04228dabd"
      },
      "outputs": [
        {
          "output_type": "stream",
          "name": "stdout",
          "text": [
            "[{'value': 'ja näen nagu kodumasin',\n",
            "  'posgram': 'JVJS',\n",
            "  'start_token': 3,\n",
            "  'end_token': 6,\n",
            "  'trigram': 'VJS',\n",
            "  'type': 'pre',\n",
            "  'context': 'J',\n",
            "  'percent': 4.7853188712363295},\n",
            " {'value': 'näen nagu kodumasin katki',\n",
            "  'posgram': 'VJSD',\n",
            "  'start_token': 4,\n",
            "  'end_token': 7,\n",
            "  'trigram': 'VJS',\n",
            "  'type': 'post',\n",
            "  'context': 'D',\n",
            "  'percent': 4.402904046086682},\n",
            " {'value': 'nagu kodumasin katki .',\n",
            "  'posgram': 'JSDZ$',\n",
            "  'start_token': 5,\n",
            "  'end_token': 9,\n",
            "  'trigram': 'JSD',\n",
            "  'type': 'post',\n",
            "  'context': '$',\n",
            "  'percent': 4.90649701176017}]\n"
          ]
        }
      ],
      "source": [
        "pprint(result[0][\"error_candidates\"], sort_dicts=False)"
      ]
    },
    {
      "cell_type": "markdown",
      "metadata": {
        "id": "lIj8vYcJuR1W"
      },
      "source": [
        "## Veatuvastus automaatparanduse väljundis"
      ]
    },
    {
      "cell_type": "markdown",
      "metadata": {
        "id": "8g23NTS3vZ1C"
      },
      "source": [
        "Järgnevalt analüüsime kahte lauset, mida on töödeldud eesti keele grammatikavigade paranduses parimaid tulemusi saavutanud korrektuurimudeliga (NELB).\n",
        "\n",
        "Esimest lauset ei ole veaparandaja muutnud. Teist lauset on oluliselt korrigeeritud, algselt oli see: *Seal palju kohvikud, muuseumusid kino*."
      ]
    },
    {
      "cell_type": "code",
      "execution_count": null,
      "metadata": {
        "colab": {
          "base_uri": "https://localhost:8080/"
        },
        "id": "MpWYdNLvwvpK",
        "outputId": "befec499-856e-409c-8883-f81061d0662f"
      },
      "outputs": [
        {
          "output_type": "stream",
          "name": "stdout",
          "text": [
            "^SPVSZ$\n",
            "^DVDSZSZSZ$\n"
          ]
        }
      ],
      "source": [
        "text = \"Vitebskis me kuulasime kontserti. Seal on palju kohvikuid, muuseume, kinosid.\"\n",
        "result = p.posgram_errors(text)"
      ]
    },
    {
      "cell_type": "markdown",
      "metadata": {
        "id": "g2pdAFzHuY0X"
      },
      "source": [
        "### 1. Sõnajärjeviga"
      ]
    },
    {
      "cell_type": "markdown",
      "metadata": {
        "id": "XjbFI1oExkNE"
      },
      "source": [
        "Esimese lause alguses on järjend nimisõna-asesõna-tegusõna (SPV), mis ei ühti V2-sõnajärje reegliga. Kirjalikus tekstis oleks soovitatav kasutada sõnajärge *Vitebskis kuulasime me*."
      ]
    },
    {
      "cell_type": "markdown",
      "metadata": {
        "id": "e5X2N8eRueyn"
      },
      "source": [
        "### 2. Puuduv sidesõna"
      ]
    },
    {
      "cell_type": "markdown",
      "metadata": {
        "id": "ivcJihc7xmny"
      },
      "source": [
        "Määrsõnale ei järgne tüüpiliselt kolm järjestikust nimisõna. Ehkki tegemist ei ole grammatikaveaga, muudaks lause ladusamaks see, kui lisada loetelusse sõnade *muuseume* ja *kinosid* vahele sidesõna *ja*."
      ]
    },
    {
      "cell_type": "code",
      "execution_count": null,
      "metadata": {
        "colab": {
          "base_uri": "https://localhost:8080/"
        },
        "id": "t6Cuy_rMkPab",
        "outputId": "0a826125-823a-4558-be75-4cd1a119bc25"
      },
      "outputs": [
        {
          "output_type": "stream",
          "name": "stdout",
          "text": [
            "[{'sentence': 'Vitebskis me kuulasime kontserti.',\n",
            "  'sentence_posgram': '^SPVSZ$',\n",
            "  'error_candidates': [{'value': 'Vitebskis me kuulasime',\n",
            "                        'posgram': 'SPV',\n",
            "                        'start_token': 0,\n",
            "                        'end_token': 2,\n",
            "                        'trigram': 'SPV',\n",
            "                        'type': 'pre',\n",
            "                        'context': '^',\n",
            "                        'percent': 4.862718076808973}]},\n",
            " {'sentence': 'Seal on palju kohvikuid, muuseume, kinosid.',\n",
            "  'sentence_posgram': '^DVDSZSZSZ$',\n",
            "  'error_candidates': [{'value': 'palju kohvikuid , muuseume , kinosid',\n",
            "                        'posgram': 'DSZSZS',\n",
            "                        'start_token': 2,\n",
            "                        'end_token': 7,\n",
            "                        'trigram': 'SSS',\n",
            "                        'type': 'pre',\n",
            "                        'context': 'D',\n",
            "                        'percent': 3.9641244155294872}]}]\n"
          ]
        }
      ],
      "source": [
        "pprint(result, sort_dicts=False)"
      ]
    },
    {
      "cell_type": "markdown",
      "source": [
        "Proovi analüüsida ka oma lauset või teksti."
      ],
      "metadata": {
        "id": "bSon7R6sePrB"
      }
    },
    {
      "cell_type": "code",
      "source": [],
      "metadata": {
        "id": "AeaRFTvfeb2Q"
      },
      "execution_count": null,
      "outputs": []
    }
  ],
  "metadata": {
    "colab": {
      "provenance": [],
      "include_colab_link": true
    },
    "kernelspec": {
      "display_name": "Python 3",
      "name": "python3"
    },
    "language_info": {
      "name": "python"
    },
    "widgets": {
      "application/vnd.jupyter.widget-state+json": {
        "7d83743897504d638bec9b267d280845": {
          "model_module": "@jupyter-widgets/controls",
          "model_name": "HBoxModel",
          "model_module_version": "1.5.0",
          "state": {
            "_dom_classes": [],
            "_model_module": "@jupyter-widgets/controls",
            "_model_module_version": "1.5.0",
            "_model_name": "HBoxModel",
            "_view_count": null,
            "_view_module": "@jupyter-widgets/controls",
            "_view_module_version": "1.5.0",
            "_view_name": "HBoxView",
            "box_style": "",
            "children": [
              "IPY_MODEL_03018107531941c5a3e85ed892609af6",
              "IPY_MODEL_911c340ae2904b5ab5f0502dcd8f7a6d",
              "IPY_MODEL_599b880a7c13463c86253ccf85489b7c"
            ],
            "layout": "IPY_MODEL_3f2973c1b3a4423c9a9e328ee566bd36"
          }
        },
        "03018107531941c5a3e85ed892609af6": {
          "model_module": "@jupyter-widgets/controls",
          "model_name": "HTMLModel",
          "model_module_version": "1.5.0",
          "state": {
            "_dom_classes": [],
            "_model_module": "@jupyter-widgets/controls",
            "_model_module_version": "1.5.0",
            "_model_name": "HTMLModel",
            "_view_count": null,
            "_view_module": "@jupyter-widgets/controls",
            "_view_module_version": "1.5.0",
            "_view_name": "HTMLView",
            "description": "",
            "description_tooltip": null,
            "layout": "IPY_MODEL_3655ef1a9ca7418e8f2785909cf29251",
            "placeholder": "​",
            "style": "IPY_MODEL_53ccb5ecf36e4c27b3f1008ba1d6aa36",
            "value": "Downloading https://raw.githubusercontent.com/stanfordnlp/stanza-resources/main/resources_1.7.0.json: "
          }
        },
        "911c340ae2904b5ab5f0502dcd8f7a6d": {
          "model_module": "@jupyter-widgets/controls",
          "model_name": "FloatProgressModel",
          "model_module_version": "1.5.0",
          "state": {
            "_dom_classes": [],
            "_model_module": "@jupyter-widgets/controls",
            "_model_module_version": "1.5.0",
            "_model_name": "FloatProgressModel",
            "_view_count": null,
            "_view_module": "@jupyter-widgets/controls",
            "_view_module_version": "1.5.0",
            "_view_name": "ProgressView",
            "bar_style": "success",
            "description": "",
            "description_tooltip": null,
            "layout": "IPY_MODEL_7dbe272ddd2a4fb1b8a3d74ee89a3428",
            "max": 46220,
            "min": 0,
            "orientation": "horizontal",
            "style": "IPY_MODEL_d354967ec570431fb1ad7bc9b3dd408f",
            "value": 46220
          }
        },
        "599b880a7c13463c86253ccf85489b7c": {
          "model_module": "@jupyter-widgets/controls",
          "model_name": "HTMLModel",
          "model_module_version": "1.5.0",
          "state": {
            "_dom_classes": [],
            "_model_module": "@jupyter-widgets/controls",
            "_model_module_version": "1.5.0",
            "_model_name": "HTMLModel",
            "_view_count": null,
            "_view_module": "@jupyter-widgets/controls",
            "_view_module_version": "1.5.0",
            "_view_name": "HTMLView",
            "description": "",
            "description_tooltip": null,
            "layout": "IPY_MODEL_e1cbd6c5fa304b32b7f555d9fb28bb86",
            "placeholder": "​",
            "style": "IPY_MODEL_cf622305e3ef48d5b863fb9b966eabba",
            "value": " 370k/? [00:00&lt;00:00, 12.2MB/s]"
          }
        },
        "3f2973c1b3a4423c9a9e328ee566bd36": {
          "model_module": "@jupyter-widgets/base",
          "model_name": "LayoutModel",
          "model_module_version": "1.2.0",
          "state": {
            "_model_module": "@jupyter-widgets/base",
            "_model_module_version": "1.2.0",
            "_model_name": "LayoutModel",
            "_view_count": null,
            "_view_module": "@jupyter-widgets/base",
            "_view_module_version": "1.2.0",
            "_view_name": "LayoutView",
            "align_content": null,
            "align_items": null,
            "align_self": null,
            "border": null,
            "bottom": null,
            "display": null,
            "flex": null,
            "flex_flow": null,
            "grid_area": null,
            "grid_auto_columns": null,
            "grid_auto_flow": null,
            "grid_auto_rows": null,
            "grid_column": null,
            "grid_gap": null,
            "grid_row": null,
            "grid_template_areas": null,
            "grid_template_columns": null,
            "grid_template_rows": null,
            "height": null,
            "justify_content": null,
            "justify_items": null,
            "left": null,
            "margin": null,
            "max_height": null,
            "max_width": null,
            "min_height": null,
            "min_width": null,
            "object_fit": null,
            "object_position": null,
            "order": null,
            "overflow": null,
            "overflow_x": null,
            "overflow_y": null,
            "padding": null,
            "right": null,
            "top": null,
            "visibility": null,
            "width": null
          }
        },
        "3655ef1a9ca7418e8f2785909cf29251": {
          "model_module": "@jupyter-widgets/base",
          "model_name": "LayoutModel",
          "model_module_version": "1.2.0",
          "state": {
            "_model_module": "@jupyter-widgets/base",
            "_model_module_version": "1.2.0",
            "_model_name": "LayoutModel",
            "_view_count": null,
            "_view_module": "@jupyter-widgets/base",
            "_view_module_version": "1.2.0",
            "_view_name": "LayoutView",
            "align_content": null,
            "align_items": null,
            "align_self": null,
            "border": null,
            "bottom": null,
            "display": null,
            "flex": null,
            "flex_flow": null,
            "grid_area": null,
            "grid_auto_columns": null,
            "grid_auto_flow": null,
            "grid_auto_rows": null,
            "grid_column": null,
            "grid_gap": null,
            "grid_row": null,
            "grid_template_areas": null,
            "grid_template_columns": null,
            "grid_template_rows": null,
            "height": null,
            "justify_content": null,
            "justify_items": null,
            "left": null,
            "margin": null,
            "max_height": null,
            "max_width": null,
            "min_height": null,
            "min_width": null,
            "object_fit": null,
            "object_position": null,
            "order": null,
            "overflow": null,
            "overflow_x": null,
            "overflow_y": null,
            "padding": null,
            "right": null,
            "top": null,
            "visibility": null,
            "width": null
          }
        },
        "53ccb5ecf36e4c27b3f1008ba1d6aa36": {
          "model_module": "@jupyter-widgets/controls",
          "model_name": "DescriptionStyleModel",
          "model_module_version": "1.5.0",
          "state": {
            "_model_module": "@jupyter-widgets/controls",
            "_model_module_version": "1.5.0",
            "_model_name": "DescriptionStyleModel",
            "_view_count": null,
            "_view_module": "@jupyter-widgets/base",
            "_view_module_version": "1.2.0",
            "_view_name": "StyleView",
            "description_width": ""
          }
        },
        "7dbe272ddd2a4fb1b8a3d74ee89a3428": {
          "model_module": "@jupyter-widgets/base",
          "model_name": "LayoutModel",
          "model_module_version": "1.2.0",
          "state": {
            "_model_module": "@jupyter-widgets/base",
            "_model_module_version": "1.2.0",
            "_model_name": "LayoutModel",
            "_view_count": null,
            "_view_module": "@jupyter-widgets/base",
            "_view_module_version": "1.2.0",
            "_view_name": "LayoutView",
            "align_content": null,
            "align_items": null,
            "align_self": null,
            "border": null,
            "bottom": null,
            "display": null,
            "flex": null,
            "flex_flow": null,
            "grid_area": null,
            "grid_auto_columns": null,
            "grid_auto_flow": null,
            "grid_auto_rows": null,
            "grid_column": null,
            "grid_gap": null,
            "grid_row": null,
            "grid_template_areas": null,
            "grid_template_columns": null,
            "grid_template_rows": null,
            "height": null,
            "justify_content": null,
            "justify_items": null,
            "left": null,
            "margin": null,
            "max_height": null,
            "max_width": null,
            "min_height": null,
            "min_width": null,
            "object_fit": null,
            "object_position": null,
            "order": null,
            "overflow": null,
            "overflow_x": null,
            "overflow_y": null,
            "padding": null,
            "right": null,
            "top": null,
            "visibility": null,
            "width": null
          }
        },
        "d354967ec570431fb1ad7bc9b3dd408f": {
          "model_module": "@jupyter-widgets/controls",
          "model_name": "ProgressStyleModel",
          "model_module_version": "1.5.0",
          "state": {
            "_model_module": "@jupyter-widgets/controls",
            "_model_module_version": "1.5.0",
            "_model_name": "ProgressStyleModel",
            "_view_count": null,
            "_view_module": "@jupyter-widgets/base",
            "_view_module_version": "1.2.0",
            "_view_name": "StyleView",
            "bar_color": null,
            "description_width": ""
          }
        },
        "e1cbd6c5fa304b32b7f555d9fb28bb86": {
          "model_module": "@jupyter-widgets/base",
          "model_name": "LayoutModel",
          "model_module_version": "1.2.0",
          "state": {
            "_model_module": "@jupyter-widgets/base",
            "_model_module_version": "1.2.0",
            "_model_name": "LayoutModel",
            "_view_count": null,
            "_view_module": "@jupyter-widgets/base",
            "_view_module_version": "1.2.0",
            "_view_name": "LayoutView",
            "align_content": null,
            "align_items": null,
            "align_self": null,
            "border": null,
            "bottom": null,
            "display": null,
            "flex": null,
            "flex_flow": null,
            "grid_area": null,
            "grid_auto_columns": null,
            "grid_auto_flow": null,
            "grid_auto_rows": null,
            "grid_column": null,
            "grid_gap": null,
            "grid_row": null,
            "grid_template_areas": null,
            "grid_template_columns": null,
            "grid_template_rows": null,
            "height": null,
            "justify_content": null,
            "justify_items": null,
            "left": null,
            "margin": null,
            "max_height": null,
            "max_width": null,
            "min_height": null,
            "min_width": null,
            "object_fit": null,
            "object_position": null,
            "order": null,
            "overflow": null,
            "overflow_x": null,
            "overflow_y": null,
            "padding": null,
            "right": null,
            "top": null,
            "visibility": null,
            "width": null
          }
        },
        "cf622305e3ef48d5b863fb9b966eabba": {
          "model_module": "@jupyter-widgets/controls",
          "model_name": "DescriptionStyleModel",
          "model_module_version": "1.5.0",
          "state": {
            "_model_module": "@jupyter-widgets/controls",
            "_model_module_version": "1.5.0",
            "_model_name": "DescriptionStyleModel",
            "_view_count": null,
            "_view_module": "@jupyter-widgets/base",
            "_view_module_version": "1.2.0",
            "_view_name": "StyleView",
            "description_width": ""
          }
        },
        "848b704e68274a2aa91e2bbb7bf47e39": {
          "model_module": "@jupyter-widgets/controls",
          "model_name": "HBoxModel",
          "model_module_version": "1.5.0",
          "state": {
            "_dom_classes": [],
            "_model_module": "@jupyter-widgets/controls",
            "_model_module_version": "1.5.0",
            "_model_name": "HBoxModel",
            "_view_count": null,
            "_view_module": "@jupyter-widgets/controls",
            "_view_module_version": "1.5.0",
            "_view_name": "HBoxView",
            "box_style": "",
            "children": [
              "IPY_MODEL_d03d0dcca3e941cbac0fe1f57fd17257",
              "IPY_MODEL_7541a4165e074cd9959cf852947757f0",
              "IPY_MODEL_7d4bc57b10544243b0632c0e7ad22954"
            ],
            "layout": "IPY_MODEL_d7348f6d131f4cf09fff3be742d15c2a"
          }
        },
        "d03d0dcca3e941cbac0fe1f57fd17257": {
          "model_module": "@jupyter-widgets/controls",
          "model_name": "HTMLModel",
          "model_module_version": "1.5.0",
          "state": {
            "_dom_classes": [],
            "_model_module": "@jupyter-widgets/controls",
            "_model_module_version": "1.5.0",
            "_model_name": "HTMLModel",
            "_view_count": null,
            "_view_module": "@jupyter-widgets/controls",
            "_view_module_version": "1.5.0",
            "_view_name": "HTMLView",
            "description": "",
            "description_tooltip": null,
            "layout": "IPY_MODEL_6912e9a706ba4029a32ed3c7669b9aa5",
            "placeholder": "​",
            "style": "IPY_MODEL_147bdc32b33e4519badfa2646d3a8b62",
            "value": "Downloading https://huggingface.co/stanfordnlp/stanza-et/resolve/v1.7.0/models/tokenize/edt.pt: 100%"
          }
        },
        "7541a4165e074cd9959cf852947757f0": {
          "model_module": "@jupyter-widgets/controls",
          "model_name": "FloatProgressModel",
          "model_module_version": "1.5.0",
          "state": {
            "_dom_classes": [],
            "_model_module": "@jupyter-widgets/controls",
            "_model_module_version": "1.5.0",
            "_model_name": "FloatProgressModel",
            "_view_count": null,
            "_view_module": "@jupyter-widgets/controls",
            "_view_module_version": "1.5.0",
            "_view_name": "ProgressView",
            "bar_style": "success",
            "description": "",
            "description_tooltip": null,
            "layout": "IPY_MODEL_bb88067a22a74cdea091bd08b3ed0f16",
            "max": 635544,
            "min": 0,
            "orientation": "horizontal",
            "style": "IPY_MODEL_c20855cc857d4c85bcec9f58285b0333",
            "value": 635544
          }
        },
        "7d4bc57b10544243b0632c0e7ad22954": {
          "model_module": "@jupyter-widgets/controls",
          "model_name": "HTMLModel",
          "model_module_version": "1.5.0",
          "state": {
            "_dom_classes": [],
            "_model_module": "@jupyter-widgets/controls",
            "_model_module_version": "1.5.0",
            "_model_name": "HTMLModel",
            "_view_count": null,
            "_view_module": "@jupyter-widgets/controls",
            "_view_module_version": "1.5.0",
            "_view_name": "HTMLView",
            "description": "",
            "description_tooltip": null,
            "layout": "IPY_MODEL_92e74b3bf0194283988c9b3c0d3d64cf",
            "placeholder": "​",
            "style": "IPY_MODEL_e78e3b85c0d14219aec81944a9b1d741",
            "value": " 636k/636k [00:00&lt;00:00, 1.16MB/s]"
          }
        },
        "d7348f6d131f4cf09fff3be742d15c2a": {
          "model_module": "@jupyter-widgets/base",
          "model_name": "LayoutModel",
          "model_module_version": "1.2.0",
          "state": {
            "_model_module": "@jupyter-widgets/base",
            "_model_module_version": "1.2.0",
            "_model_name": "LayoutModel",
            "_view_count": null,
            "_view_module": "@jupyter-widgets/base",
            "_view_module_version": "1.2.0",
            "_view_name": "LayoutView",
            "align_content": null,
            "align_items": null,
            "align_self": null,
            "border": null,
            "bottom": null,
            "display": null,
            "flex": null,
            "flex_flow": null,
            "grid_area": null,
            "grid_auto_columns": null,
            "grid_auto_flow": null,
            "grid_auto_rows": null,
            "grid_column": null,
            "grid_gap": null,
            "grid_row": null,
            "grid_template_areas": null,
            "grid_template_columns": null,
            "grid_template_rows": null,
            "height": null,
            "justify_content": null,
            "justify_items": null,
            "left": null,
            "margin": null,
            "max_height": null,
            "max_width": null,
            "min_height": null,
            "min_width": null,
            "object_fit": null,
            "object_position": null,
            "order": null,
            "overflow": null,
            "overflow_x": null,
            "overflow_y": null,
            "padding": null,
            "right": null,
            "top": null,
            "visibility": null,
            "width": null
          }
        },
        "6912e9a706ba4029a32ed3c7669b9aa5": {
          "model_module": "@jupyter-widgets/base",
          "model_name": "LayoutModel",
          "model_module_version": "1.2.0",
          "state": {
            "_model_module": "@jupyter-widgets/base",
            "_model_module_version": "1.2.0",
            "_model_name": "LayoutModel",
            "_view_count": null,
            "_view_module": "@jupyter-widgets/base",
            "_view_module_version": "1.2.0",
            "_view_name": "LayoutView",
            "align_content": null,
            "align_items": null,
            "align_self": null,
            "border": null,
            "bottom": null,
            "display": null,
            "flex": null,
            "flex_flow": null,
            "grid_area": null,
            "grid_auto_columns": null,
            "grid_auto_flow": null,
            "grid_auto_rows": null,
            "grid_column": null,
            "grid_gap": null,
            "grid_row": null,
            "grid_template_areas": null,
            "grid_template_columns": null,
            "grid_template_rows": null,
            "height": null,
            "justify_content": null,
            "justify_items": null,
            "left": null,
            "margin": null,
            "max_height": null,
            "max_width": null,
            "min_height": null,
            "min_width": null,
            "object_fit": null,
            "object_position": null,
            "order": null,
            "overflow": null,
            "overflow_x": null,
            "overflow_y": null,
            "padding": null,
            "right": null,
            "top": null,
            "visibility": null,
            "width": null
          }
        },
        "147bdc32b33e4519badfa2646d3a8b62": {
          "model_module": "@jupyter-widgets/controls",
          "model_name": "DescriptionStyleModel",
          "model_module_version": "1.5.0",
          "state": {
            "_model_module": "@jupyter-widgets/controls",
            "_model_module_version": "1.5.0",
            "_model_name": "DescriptionStyleModel",
            "_view_count": null,
            "_view_module": "@jupyter-widgets/base",
            "_view_module_version": "1.2.0",
            "_view_name": "StyleView",
            "description_width": ""
          }
        },
        "bb88067a22a74cdea091bd08b3ed0f16": {
          "model_module": "@jupyter-widgets/base",
          "model_name": "LayoutModel",
          "model_module_version": "1.2.0",
          "state": {
            "_model_module": "@jupyter-widgets/base",
            "_model_module_version": "1.2.0",
            "_model_name": "LayoutModel",
            "_view_count": null,
            "_view_module": "@jupyter-widgets/base",
            "_view_module_version": "1.2.0",
            "_view_name": "LayoutView",
            "align_content": null,
            "align_items": null,
            "align_self": null,
            "border": null,
            "bottom": null,
            "display": null,
            "flex": null,
            "flex_flow": null,
            "grid_area": null,
            "grid_auto_columns": null,
            "grid_auto_flow": null,
            "grid_auto_rows": null,
            "grid_column": null,
            "grid_gap": null,
            "grid_row": null,
            "grid_template_areas": null,
            "grid_template_columns": null,
            "grid_template_rows": null,
            "height": null,
            "justify_content": null,
            "justify_items": null,
            "left": null,
            "margin": null,
            "max_height": null,
            "max_width": null,
            "min_height": null,
            "min_width": null,
            "object_fit": null,
            "object_position": null,
            "order": null,
            "overflow": null,
            "overflow_x": null,
            "overflow_y": null,
            "padding": null,
            "right": null,
            "top": null,
            "visibility": null,
            "width": null
          }
        },
        "c20855cc857d4c85bcec9f58285b0333": {
          "model_module": "@jupyter-widgets/controls",
          "model_name": "ProgressStyleModel",
          "model_module_version": "1.5.0",
          "state": {
            "_model_module": "@jupyter-widgets/controls",
            "_model_module_version": "1.5.0",
            "_model_name": "ProgressStyleModel",
            "_view_count": null,
            "_view_module": "@jupyter-widgets/base",
            "_view_module_version": "1.2.0",
            "_view_name": "StyleView",
            "bar_color": null,
            "description_width": ""
          }
        },
        "92e74b3bf0194283988c9b3c0d3d64cf": {
          "model_module": "@jupyter-widgets/base",
          "model_name": "LayoutModel",
          "model_module_version": "1.2.0",
          "state": {
            "_model_module": "@jupyter-widgets/base",
            "_model_module_version": "1.2.0",
            "_model_name": "LayoutModel",
            "_view_count": null,
            "_view_module": "@jupyter-widgets/base",
            "_view_module_version": "1.2.0",
            "_view_name": "LayoutView",
            "align_content": null,
            "align_items": null,
            "align_self": null,
            "border": null,
            "bottom": null,
            "display": null,
            "flex": null,
            "flex_flow": null,
            "grid_area": null,
            "grid_auto_columns": null,
            "grid_auto_flow": null,
            "grid_auto_rows": null,
            "grid_column": null,
            "grid_gap": null,
            "grid_row": null,
            "grid_template_areas": null,
            "grid_template_columns": null,
            "grid_template_rows": null,
            "height": null,
            "justify_content": null,
            "justify_items": null,
            "left": null,
            "margin": null,
            "max_height": null,
            "max_width": null,
            "min_height": null,
            "min_width": null,
            "object_fit": null,
            "object_position": null,
            "order": null,
            "overflow": null,
            "overflow_x": null,
            "overflow_y": null,
            "padding": null,
            "right": null,
            "top": null,
            "visibility": null,
            "width": null
          }
        },
        "e78e3b85c0d14219aec81944a9b1d741": {
          "model_module": "@jupyter-widgets/controls",
          "model_name": "DescriptionStyleModel",
          "model_module_version": "1.5.0",
          "state": {
            "_model_module": "@jupyter-widgets/controls",
            "_model_module_version": "1.5.0",
            "_model_name": "DescriptionStyleModel",
            "_view_count": null,
            "_view_module": "@jupyter-widgets/base",
            "_view_module_version": "1.2.0",
            "_view_name": "StyleView",
            "description_width": ""
          }
        },
        "c3ed4fa667d94dbda4ccf5b385baeec1": {
          "model_module": "@jupyter-widgets/controls",
          "model_name": "HBoxModel",
          "model_module_version": "1.5.0",
          "state": {
            "_dom_classes": [],
            "_model_module": "@jupyter-widgets/controls",
            "_model_module_version": "1.5.0",
            "_model_name": "HBoxModel",
            "_view_count": null,
            "_view_module": "@jupyter-widgets/controls",
            "_view_module_version": "1.5.0",
            "_view_name": "HBoxView",
            "box_style": "",
            "children": [
              "IPY_MODEL_4d9a1a010a324cadb2527cfc81952638",
              "IPY_MODEL_ca61a40c14204eec99a529c8f48b0e18",
              "IPY_MODEL_1d715e7791cd49f7823efca8eaec0fef"
            ],
            "layout": "IPY_MODEL_b967c92b0a744c1aac3cea0d8f98ef25"
          }
        },
        "4d9a1a010a324cadb2527cfc81952638": {
          "model_module": "@jupyter-widgets/controls",
          "model_name": "HTMLModel",
          "model_module_version": "1.5.0",
          "state": {
            "_dom_classes": [],
            "_model_module": "@jupyter-widgets/controls",
            "_model_module_version": "1.5.0",
            "_model_name": "HTMLModel",
            "_view_count": null,
            "_view_module": "@jupyter-widgets/controls",
            "_view_module_version": "1.5.0",
            "_view_name": "HTMLView",
            "description": "",
            "description_tooltip": null,
            "layout": "IPY_MODEL_046154cdf4b0454d928daa8dfbf1f9cd",
            "placeholder": "​",
            "style": "IPY_MODEL_4756fd19157f4d75873c32dcb6e0cd1e",
            "value": "Downloading https://huggingface.co/stanfordnlp/stanza-et/resolve/v1.7.0/models/pos/edt_nocharlm.pt: 100%"
          }
        },
        "ca61a40c14204eec99a529c8f48b0e18": {
          "model_module": "@jupyter-widgets/controls",
          "model_name": "FloatProgressModel",
          "model_module_version": "1.5.0",
          "state": {
            "_dom_classes": [],
            "_model_module": "@jupyter-widgets/controls",
            "_model_module_version": "1.5.0",
            "_model_name": "FloatProgressModel",
            "_view_count": null,
            "_view_module": "@jupyter-widgets/controls",
            "_view_module_version": "1.5.0",
            "_view_name": "ProgressView",
            "bar_style": "success",
            "description": "",
            "description_tooltip": null,
            "layout": "IPY_MODEL_b2b12c8688ae49abadce7075dac9a3e4",
            "max": 21172737,
            "min": 0,
            "orientation": "horizontal",
            "style": "IPY_MODEL_a41c4efab2d44621bfbd10e51fb61fe4",
            "value": 21172737
          }
        },
        "1d715e7791cd49f7823efca8eaec0fef": {
          "model_module": "@jupyter-widgets/controls",
          "model_name": "HTMLModel",
          "model_module_version": "1.5.0",
          "state": {
            "_dom_classes": [],
            "_model_module": "@jupyter-widgets/controls",
            "_model_module_version": "1.5.0",
            "_model_name": "HTMLModel",
            "_view_count": null,
            "_view_module": "@jupyter-widgets/controls",
            "_view_module_version": "1.5.0",
            "_view_name": "HTMLView",
            "description": "",
            "description_tooltip": null,
            "layout": "IPY_MODEL_fac93cc1055446bbb544c9c78a4a7f99",
            "placeholder": "​",
            "style": "IPY_MODEL_0acd551c2f9d48b0b8821648b3e37a17",
            "value": " 21.2M/21.2M [00:01&lt;00:00, 26.4MB/s]"
          }
        },
        "b967c92b0a744c1aac3cea0d8f98ef25": {
          "model_module": "@jupyter-widgets/base",
          "model_name": "LayoutModel",
          "model_module_version": "1.2.0",
          "state": {
            "_model_module": "@jupyter-widgets/base",
            "_model_module_version": "1.2.0",
            "_model_name": "LayoutModel",
            "_view_count": null,
            "_view_module": "@jupyter-widgets/base",
            "_view_module_version": "1.2.0",
            "_view_name": "LayoutView",
            "align_content": null,
            "align_items": null,
            "align_self": null,
            "border": null,
            "bottom": null,
            "display": null,
            "flex": null,
            "flex_flow": null,
            "grid_area": null,
            "grid_auto_columns": null,
            "grid_auto_flow": null,
            "grid_auto_rows": null,
            "grid_column": null,
            "grid_gap": null,
            "grid_row": null,
            "grid_template_areas": null,
            "grid_template_columns": null,
            "grid_template_rows": null,
            "height": null,
            "justify_content": null,
            "justify_items": null,
            "left": null,
            "margin": null,
            "max_height": null,
            "max_width": null,
            "min_height": null,
            "min_width": null,
            "object_fit": null,
            "object_position": null,
            "order": null,
            "overflow": null,
            "overflow_x": null,
            "overflow_y": null,
            "padding": null,
            "right": null,
            "top": null,
            "visibility": null,
            "width": null
          }
        },
        "046154cdf4b0454d928daa8dfbf1f9cd": {
          "model_module": "@jupyter-widgets/base",
          "model_name": "LayoutModel",
          "model_module_version": "1.2.0",
          "state": {
            "_model_module": "@jupyter-widgets/base",
            "_model_module_version": "1.2.0",
            "_model_name": "LayoutModel",
            "_view_count": null,
            "_view_module": "@jupyter-widgets/base",
            "_view_module_version": "1.2.0",
            "_view_name": "LayoutView",
            "align_content": null,
            "align_items": null,
            "align_self": null,
            "border": null,
            "bottom": null,
            "display": null,
            "flex": null,
            "flex_flow": null,
            "grid_area": null,
            "grid_auto_columns": null,
            "grid_auto_flow": null,
            "grid_auto_rows": null,
            "grid_column": null,
            "grid_gap": null,
            "grid_row": null,
            "grid_template_areas": null,
            "grid_template_columns": null,
            "grid_template_rows": null,
            "height": null,
            "justify_content": null,
            "justify_items": null,
            "left": null,
            "margin": null,
            "max_height": null,
            "max_width": null,
            "min_height": null,
            "min_width": null,
            "object_fit": null,
            "object_position": null,
            "order": null,
            "overflow": null,
            "overflow_x": null,
            "overflow_y": null,
            "padding": null,
            "right": null,
            "top": null,
            "visibility": null,
            "width": null
          }
        },
        "4756fd19157f4d75873c32dcb6e0cd1e": {
          "model_module": "@jupyter-widgets/controls",
          "model_name": "DescriptionStyleModel",
          "model_module_version": "1.5.0",
          "state": {
            "_model_module": "@jupyter-widgets/controls",
            "_model_module_version": "1.5.0",
            "_model_name": "DescriptionStyleModel",
            "_view_count": null,
            "_view_module": "@jupyter-widgets/base",
            "_view_module_version": "1.2.0",
            "_view_name": "StyleView",
            "description_width": ""
          }
        },
        "b2b12c8688ae49abadce7075dac9a3e4": {
          "model_module": "@jupyter-widgets/base",
          "model_name": "LayoutModel",
          "model_module_version": "1.2.0",
          "state": {
            "_model_module": "@jupyter-widgets/base",
            "_model_module_version": "1.2.0",
            "_model_name": "LayoutModel",
            "_view_count": null,
            "_view_module": "@jupyter-widgets/base",
            "_view_module_version": "1.2.0",
            "_view_name": "LayoutView",
            "align_content": null,
            "align_items": null,
            "align_self": null,
            "border": null,
            "bottom": null,
            "display": null,
            "flex": null,
            "flex_flow": null,
            "grid_area": null,
            "grid_auto_columns": null,
            "grid_auto_flow": null,
            "grid_auto_rows": null,
            "grid_column": null,
            "grid_gap": null,
            "grid_row": null,
            "grid_template_areas": null,
            "grid_template_columns": null,
            "grid_template_rows": null,
            "height": null,
            "justify_content": null,
            "justify_items": null,
            "left": null,
            "margin": null,
            "max_height": null,
            "max_width": null,
            "min_height": null,
            "min_width": null,
            "object_fit": null,
            "object_position": null,
            "order": null,
            "overflow": null,
            "overflow_x": null,
            "overflow_y": null,
            "padding": null,
            "right": null,
            "top": null,
            "visibility": null,
            "width": null
          }
        },
        "a41c4efab2d44621bfbd10e51fb61fe4": {
          "model_module": "@jupyter-widgets/controls",
          "model_name": "ProgressStyleModel",
          "model_module_version": "1.5.0",
          "state": {
            "_model_module": "@jupyter-widgets/controls",
            "_model_module_version": "1.5.0",
            "_model_name": "ProgressStyleModel",
            "_view_count": null,
            "_view_module": "@jupyter-widgets/base",
            "_view_module_version": "1.2.0",
            "_view_name": "StyleView",
            "bar_color": null,
            "description_width": ""
          }
        },
        "fac93cc1055446bbb544c9c78a4a7f99": {
          "model_module": "@jupyter-widgets/base",
          "model_name": "LayoutModel",
          "model_module_version": "1.2.0",
          "state": {
            "_model_module": "@jupyter-widgets/base",
            "_model_module_version": "1.2.0",
            "_model_name": "LayoutModel",
            "_view_count": null,
            "_view_module": "@jupyter-widgets/base",
            "_view_module_version": "1.2.0",
            "_view_name": "LayoutView",
            "align_content": null,
            "align_items": null,
            "align_self": null,
            "border": null,
            "bottom": null,
            "display": null,
            "flex": null,
            "flex_flow": null,
            "grid_area": null,
            "grid_auto_columns": null,
            "grid_auto_flow": null,
            "grid_auto_rows": null,
            "grid_column": null,
            "grid_gap": null,
            "grid_row": null,
            "grid_template_areas": null,
            "grid_template_columns": null,
            "grid_template_rows": null,
            "height": null,
            "justify_content": null,
            "justify_items": null,
            "left": null,
            "margin": null,
            "max_height": null,
            "max_width": null,
            "min_height": null,
            "min_width": null,
            "object_fit": null,
            "object_position": null,
            "order": null,
            "overflow": null,
            "overflow_x": null,
            "overflow_y": null,
            "padding": null,
            "right": null,
            "top": null,
            "visibility": null,
            "width": null
          }
        },
        "0acd551c2f9d48b0b8821648b3e37a17": {
          "model_module": "@jupyter-widgets/controls",
          "model_name": "DescriptionStyleModel",
          "model_module_version": "1.5.0",
          "state": {
            "_model_module": "@jupyter-widgets/controls",
            "_model_module_version": "1.5.0",
            "_model_name": "DescriptionStyleModel",
            "_view_count": null,
            "_view_module": "@jupyter-widgets/base",
            "_view_module_version": "1.2.0",
            "_view_name": "StyleView",
            "description_width": ""
          }
        },
        "1b4d65501ff94855885ed59e7a832c8c": {
          "model_module": "@jupyter-widgets/controls",
          "model_name": "HBoxModel",
          "model_module_version": "1.5.0",
          "state": {
            "_dom_classes": [],
            "_model_module": "@jupyter-widgets/controls",
            "_model_module_version": "1.5.0",
            "_model_name": "HBoxModel",
            "_view_count": null,
            "_view_module": "@jupyter-widgets/controls",
            "_view_module_version": "1.5.0",
            "_view_name": "HBoxView",
            "box_style": "",
            "children": [
              "IPY_MODEL_e6730eeebea64f709958c51651684b84",
              "IPY_MODEL_f6920bc8c88042b99ca48a3355f6156e",
              "IPY_MODEL_7413ddca36584537aaca8e0c4602866c"
            ],
            "layout": "IPY_MODEL_71e19b1b75524f7fa191b81bfc5c1794"
          }
        },
        "e6730eeebea64f709958c51651684b84": {
          "model_module": "@jupyter-widgets/controls",
          "model_name": "HTMLModel",
          "model_module_version": "1.5.0",
          "state": {
            "_dom_classes": [],
            "_model_module": "@jupyter-widgets/controls",
            "_model_module_version": "1.5.0",
            "_model_name": "HTMLModel",
            "_view_count": null,
            "_view_module": "@jupyter-widgets/controls",
            "_view_module_version": "1.5.0",
            "_view_name": "HTMLView",
            "description": "",
            "description_tooltip": null,
            "layout": "IPY_MODEL_7041b04793484be39abdda499d5a7e9b",
            "placeholder": "​",
            "style": "IPY_MODEL_72b4ea7ebcb246acbef1999b9bbd9d11",
            "value": "Downloading https://huggingface.co/stanfordnlp/stanza-et/resolve/v1.7.0/models/pretrain/conll17.pt: 100%"
          }
        },
        "f6920bc8c88042b99ca48a3355f6156e": {
          "model_module": "@jupyter-widgets/controls",
          "model_name": "FloatProgressModel",
          "model_module_version": "1.5.0",
          "state": {
            "_dom_classes": [],
            "_model_module": "@jupyter-widgets/controls",
            "_model_module_version": "1.5.0",
            "_model_name": "FloatProgressModel",
            "_view_count": null,
            "_view_module": "@jupyter-widgets/controls",
            "_view_module_version": "1.5.0",
            "_view_name": "ProgressView",
            "bar_style": "success",
            "description": "",
            "description_tooltip": null,
            "layout": "IPY_MODEL_eab961c84edc4251899ae97d46982fc5",
            "max": 107300024,
            "min": 0,
            "orientation": "horizontal",
            "style": "IPY_MODEL_755a2b099caa4da0995fca890452b37f",
            "value": 107300024
          }
        },
        "7413ddca36584537aaca8e0c4602866c": {
          "model_module": "@jupyter-widgets/controls",
          "model_name": "HTMLModel",
          "model_module_version": "1.5.0",
          "state": {
            "_dom_classes": [],
            "_model_module": "@jupyter-widgets/controls",
            "_model_module_version": "1.5.0",
            "_model_name": "HTMLModel",
            "_view_count": null,
            "_view_module": "@jupyter-widgets/controls",
            "_view_module_version": "1.5.0",
            "_view_name": "HTMLView",
            "description": "",
            "description_tooltip": null,
            "layout": "IPY_MODEL_7eb554ba56254d4b95839bbfcf4db9c1",
            "placeholder": "​",
            "style": "IPY_MODEL_a8140483f9964863a78078c6dbf8dee1",
            "value": " 107M/107M [00:03&lt;00:00, 36.0MB/s]"
          }
        },
        "71e19b1b75524f7fa191b81bfc5c1794": {
          "model_module": "@jupyter-widgets/base",
          "model_name": "LayoutModel",
          "model_module_version": "1.2.0",
          "state": {
            "_model_module": "@jupyter-widgets/base",
            "_model_module_version": "1.2.0",
            "_model_name": "LayoutModel",
            "_view_count": null,
            "_view_module": "@jupyter-widgets/base",
            "_view_module_version": "1.2.0",
            "_view_name": "LayoutView",
            "align_content": null,
            "align_items": null,
            "align_self": null,
            "border": null,
            "bottom": null,
            "display": null,
            "flex": null,
            "flex_flow": null,
            "grid_area": null,
            "grid_auto_columns": null,
            "grid_auto_flow": null,
            "grid_auto_rows": null,
            "grid_column": null,
            "grid_gap": null,
            "grid_row": null,
            "grid_template_areas": null,
            "grid_template_columns": null,
            "grid_template_rows": null,
            "height": null,
            "justify_content": null,
            "justify_items": null,
            "left": null,
            "margin": null,
            "max_height": null,
            "max_width": null,
            "min_height": null,
            "min_width": null,
            "object_fit": null,
            "object_position": null,
            "order": null,
            "overflow": null,
            "overflow_x": null,
            "overflow_y": null,
            "padding": null,
            "right": null,
            "top": null,
            "visibility": null,
            "width": null
          }
        },
        "7041b04793484be39abdda499d5a7e9b": {
          "model_module": "@jupyter-widgets/base",
          "model_name": "LayoutModel",
          "model_module_version": "1.2.0",
          "state": {
            "_model_module": "@jupyter-widgets/base",
            "_model_module_version": "1.2.0",
            "_model_name": "LayoutModel",
            "_view_count": null,
            "_view_module": "@jupyter-widgets/base",
            "_view_module_version": "1.2.0",
            "_view_name": "LayoutView",
            "align_content": null,
            "align_items": null,
            "align_self": null,
            "border": null,
            "bottom": null,
            "display": null,
            "flex": null,
            "flex_flow": null,
            "grid_area": null,
            "grid_auto_columns": null,
            "grid_auto_flow": null,
            "grid_auto_rows": null,
            "grid_column": null,
            "grid_gap": null,
            "grid_row": null,
            "grid_template_areas": null,
            "grid_template_columns": null,
            "grid_template_rows": null,
            "height": null,
            "justify_content": null,
            "justify_items": null,
            "left": null,
            "margin": null,
            "max_height": null,
            "max_width": null,
            "min_height": null,
            "min_width": null,
            "object_fit": null,
            "object_position": null,
            "order": null,
            "overflow": null,
            "overflow_x": null,
            "overflow_y": null,
            "padding": null,
            "right": null,
            "top": null,
            "visibility": null,
            "width": null
          }
        },
        "72b4ea7ebcb246acbef1999b9bbd9d11": {
          "model_module": "@jupyter-widgets/controls",
          "model_name": "DescriptionStyleModel",
          "model_module_version": "1.5.0",
          "state": {
            "_model_module": "@jupyter-widgets/controls",
            "_model_module_version": "1.5.0",
            "_model_name": "DescriptionStyleModel",
            "_view_count": null,
            "_view_module": "@jupyter-widgets/base",
            "_view_module_version": "1.2.0",
            "_view_name": "StyleView",
            "description_width": ""
          }
        },
        "eab961c84edc4251899ae97d46982fc5": {
          "model_module": "@jupyter-widgets/base",
          "model_name": "LayoutModel",
          "model_module_version": "1.2.0",
          "state": {
            "_model_module": "@jupyter-widgets/base",
            "_model_module_version": "1.2.0",
            "_model_name": "LayoutModel",
            "_view_count": null,
            "_view_module": "@jupyter-widgets/base",
            "_view_module_version": "1.2.0",
            "_view_name": "LayoutView",
            "align_content": null,
            "align_items": null,
            "align_self": null,
            "border": null,
            "bottom": null,
            "display": null,
            "flex": null,
            "flex_flow": null,
            "grid_area": null,
            "grid_auto_columns": null,
            "grid_auto_flow": null,
            "grid_auto_rows": null,
            "grid_column": null,
            "grid_gap": null,
            "grid_row": null,
            "grid_template_areas": null,
            "grid_template_columns": null,
            "grid_template_rows": null,
            "height": null,
            "justify_content": null,
            "justify_items": null,
            "left": null,
            "margin": null,
            "max_height": null,
            "max_width": null,
            "min_height": null,
            "min_width": null,
            "object_fit": null,
            "object_position": null,
            "order": null,
            "overflow": null,
            "overflow_x": null,
            "overflow_y": null,
            "padding": null,
            "right": null,
            "top": null,
            "visibility": null,
            "width": null
          }
        },
        "755a2b099caa4da0995fca890452b37f": {
          "model_module": "@jupyter-widgets/controls",
          "model_name": "ProgressStyleModel",
          "model_module_version": "1.5.0",
          "state": {
            "_model_module": "@jupyter-widgets/controls",
            "_model_module_version": "1.5.0",
            "_model_name": "ProgressStyleModel",
            "_view_count": null,
            "_view_module": "@jupyter-widgets/base",
            "_view_module_version": "1.2.0",
            "_view_name": "StyleView",
            "bar_color": null,
            "description_width": ""
          }
        },
        "7eb554ba56254d4b95839bbfcf4db9c1": {
          "model_module": "@jupyter-widgets/base",
          "model_name": "LayoutModel",
          "model_module_version": "1.2.0",
          "state": {
            "_model_module": "@jupyter-widgets/base",
            "_model_module_version": "1.2.0",
            "_model_name": "LayoutModel",
            "_view_count": null,
            "_view_module": "@jupyter-widgets/base",
            "_view_module_version": "1.2.0",
            "_view_name": "LayoutView",
            "align_content": null,
            "align_items": null,
            "align_self": null,
            "border": null,
            "bottom": null,
            "display": null,
            "flex": null,
            "flex_flow": null,
            "grid_area": null,
            "grid_auto_columns": null,
            "grid_auto_flow": null,
            "grid_auto_rows": null,
            "grid_column": null,
            "grid_gap": null,
            "grid_row": null,
            "grid_template_areas": null,
            "grid_template_columns": null,
            "grid_template_rows": null,
            "height": null,
            "justify_content": null,
            "justify_items": null,
            "left": null,
            "margin": null,
            "max_height": null,
            "max_width": null,
            "min_height": null,
            "min_width": null,
            "object_fit": null,
            "object_position": null,
            "order": null,
            "overflow": null,
            "overflow_x": null,
            "overflow_y": null,
            "padding": null,
            "right": null,
            "top": null,
            "visibility": null,
            "width": null
          }
        },
        "a8140483f9964863a78078c6dbf8dee1": {
          "model_module": "@jupyter-widgets/controls",
          "model_name": "DescriptionStyleModel",
          "model_module_version": "1.5.0",
          "state": {
            "_model_module": "@jupyter-widgets/controls",
            "_model_module_version": "1.5.0",
            "_model_name": "DescriptionStyleModel",
            "_view_count": null,
            "_view_module": "@jupyter-widgets/base",
            "_view_module_version": "1.2.0",
            "_view_name": "StyleView",
            "description_width": ""
          }
        }
      }
    }
  },
  "nbformat": 4,
  "nbformat_minor": 0
}